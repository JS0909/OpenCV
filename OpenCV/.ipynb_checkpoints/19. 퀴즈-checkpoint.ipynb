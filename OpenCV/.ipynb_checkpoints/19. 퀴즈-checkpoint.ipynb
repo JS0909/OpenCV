{
 "cells": [
  {
   "cell_type": "markdown",
   "id": "1273b63d",
   "metadata": {},
   "source": [
    "# 퀴즈"
   ]
  },
  {
   "cell_type": "markdown",
   "id": "9fa51fb6",
   "metadata": {},
   "source": [
    "## OpenCV 를 이용하여 가로로 촬영된 동영상을 세로로 회전하는 프로그램을 작성하시오"
   ]
  },
  {
   "cell_type": "markdown",
   "id": "5e770461",
   "metadata": {},
   "source": [
    "### 조건\n",
    "1. 회전 : 시계 반대방향으로 90도\n",
    "1. 재생속도 (FPS) : 원본 x4배\n",
    "1. 출력 파일명 : city_output.avi (코덱: DIVX)"
   ]
  },
  {
   "cell_type": "markdown",
   "id": "d578970b",
   "metadata": {},
   "source": [
    "## 내가 만든 코드"
   ]
  },
  {
   "cell_type": "code",
   "execution_count": 5,
   "id": "17e96f06",
   "metadata": {},
   "outputs": [
    {
     "name": "stdout",
     "output_type": "stream",
     "text": [
      "입력에 의한 종료\n"
     ]
    }
   ],
   "source": [
    "import cv2\n",
    "\n",
    "cap = cv2.VideoCapture('city.mp4')\n",
    "\n",
    "while cap.isOpened():\n",
    "    ret, frame = cap.read()\n",
    "    \n",
    "    if not ret:\n",
    "        print('더 이상 프레임 없음')\n",
    "        break\n",
    "    \n",
    "    rotate_frame = cv2.rotate(frame, cv2.ROTATE_90_CLOCKWISE)\n",
    "    cv2.imshow('video', rotate_frame)\n",
    "    \n",
    "    if cv2.waitKey(1) == ord('q'):\n",
    "        print('입력에 의한 종료')\n",
    "        break\n",
    "\n",
    "cv2.destroyAllWindows()"
   ]
  },
  {
   "cell_type": "markdown",
   "id": "ce43d47f",
   "metadata": {},
   "source": [
    "## 풀이 코드"
   ]
  },
  {
   "cell_type": "code",
   "execution_count": 2,
   "id": "01d4d23d",
   "metadata": {},
   "outputs": [],
   "source": [
    "import cv2\n",
    "cap = cv2.VideoCapture('city.mp4')\n",
    "fourcc = cv2.VideoWriter_fourcc(*'DIVX')\n",
    "width = round(cap.get(cv2.CAP_PROP_FRAME_WIDTH))\n",
    "height = round(cap.get(cv2.CAP_PROP_FRAME_HEIGHT))\n",
    "fps = round(cap.get(cv2.CAP_PROP_FPS))\n",
    "\n",
    "out = cv2.VideoWriter('city_output.avi', fourcc, fps*4, (height, width))\n",
    "\n",
    "while cap.isOpened():\n",
    "    ret, frame = cap.read()\n",
    "    if not ret:\n",
    "        break\n",
    "    \n",
    "    rotate_frame = cv2.rotate(frame, cv2.ROTATE_90_COUNTERCLOCKWISE)\n",
    "    cv2.imshow('video', frame)\n",
    "    out.write(rotate_frame)\n",
    "    \n",
    "    if cv2.waitKey(1) == ord('q'):\n",
    "        break\n",
    "    \n",
    "out.release()\n",
    "cap.release()\n",
    "cv2.destroyAllWindows()"
   ]
  }
 ],
 "metadata": {
  "kernelspec": {
   "display_name": "Python 3 (ipykernel)",
   "language": "python",
   "name": "python3"
  },
  "language_info": {
   "codemirror_mode": {
    "name": "ipython",
    "version": 3
   },
   "file_extension": ".py",
   "mimetype": "text/x-python",
   "name": "python",
   "nbconvert_exporter": "python",
   "pygments_lexer": "ipython3",
   "version": "3.9.12"
  }
 },
 "nbformat": 4,
 "nbformat_minor": 5
}
