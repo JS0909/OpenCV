{
 "cells": [
  {
   "cell_type": "markdown",
   "id": "d6ea4aae",
   "metadata": {},
   "source": [
    "# 프로젝트 : 얼굴 인식하여 캐릭터 씌우기"
   ]
  },
  {
   "cell_type": "markdown",
   "id": "af3e8d14",
   "metadata": {},
   "source": [
    "## Face Detection vs. Face Recognition"
   ]
  },
  {
   "cell_type": "markdown",
   "id": "e059a90a",
   "metadata": {},
   "source": [
    "### mediapipe - Face Detection"
   ]
  },
  {
   "cell_type": "markdown",
   "id": "2550a06b",
   "metadata": {},
   "source": [
    "### mediapipe 설치\n",
    "> pip install mediapipe"
   ]
  },
  {
   "cell_type": "markdown",
   "id": "5c9fe769",
   "metadata": {},
   "source": [
    "## 눈코 위치 잡기"
   ]
  },
  {
   "cell_type": "code",
   "execution_count": 28,
   "id": "3819ccd3",
   "metadata": {},
   "outputs": [],
   "source": [
    "import cv2\n",
    "import mediapipe as mp\n",
    "\n",
    "# 얼굴을 찾고, 찾은 얼굴에 표시를 하기 위한 변수 정의\n",
    "mp_face_detection = mp.solutions.face_detection # 얼굴 검출을 위한 face_detection 모듈 사용\n",
    "mp_drawing = mp.solutions.drawing_utils # 얼굴의 특징을 그리기 위한 drawing_utils 모듈 사용\n",
    "\n",
    "# 동영상 파일 열기\n",
    "cap = cv2.VideoCapture('face_video.mp4')\n",
    "\n",
    "                                         # 0(가까운거) or 1(먼거)         0~1(threshold 값)\n",
    "with mp_face_detection.FaceDetection(model_selection=0, min_detection_confidence=0.7) as face_detection:\n",
    "        while cap.isOpened():\n",
    "            success, image = cap.read()\n",
    "\n",
    "            if not success:\n",
    "                break\n",
    "\n",
    "            # To improve performance, optionally mark the image as not writeable to\n",
    "            # pass by reference.\n",
    "            image.flags.writeable = False\n",
    "            image = cv2.cvtColor(image, cv2.COLOR_BGR2RGB)\n",
    "            results = face_detection.process(image)\n",
    "\n",
    "            # Draw the face detection annotations on the image.\n",
    "            image.flags.writeable = True\n",
    "            image = cv2.cvtColor(image, cv2.COLOR_RGB2BGR)\n",
    "            \n",
    "            if results.detections:\n",
    "                # 6개의 얼굴 특징 detection : 오른 눈, 왼 눈, 코 끝, 입 중심, 오른 귀, 왼 귀 (귀구슬점)\n",
    "                for detection in results.detections:\n",
    "                    # mp_drawing.draw_detection(image, detection)\n",
    "                    # print(detection)\n",
    "                    \n",
    "                    # 특정 위치 가져오기\n",
    "                    keypoints = detection.location_data.relative_keypoints\n",
    "                    right_eye = keypoints[0]\n",
    "                    left_eye = keypoints[1]\n",
    "                    nose_tip = keypoints[2]\n",
    "                    \n",
    "                    h, w, _ = image.shape # height, width, channel\n",
    "                    right_eye = (int(right_eye.x * w), int(right_eye.y * h)) # 이미지 내에서 실제 좌표 (x, y)\n",
    "                    left_eye = (int(left_eye.x * w), int(left_eye.y * h))\n",
    "                    nose_tip = (int(nose_tip.x * w), int(nose_tip.y * h))\n",
    "                    \n",
    "                    # 양 눈에 동그라미 그리기\n",
    "                    cv2.circle(image, right_eye, 50, (255, 0, 0), 10, cv2.LINE_AA)  # 파란색\n",
    "                    cv2.circle(image, left_eye, 50, (0, 255, 0), 10, cv2.LINE_AA) # 초록색\n",
    "                    # 코에 동그라미 그리기\n",
    "                    cv2.circle(image, nose_tip, 75, (0, 255, 255), 10, cv2.LINE_AA) # 노란색\n",
    "                    \n",
    "\n",
    "            cv2.imshow('MediaPipe Face Detection', cv2.resize(image, None, fx=0.5, fy=0.5))\n",
    "            if cv2.waitKey(1) == ord('q'):\n",
    "                break\n",
    "        \n",
    "cap.release()\n",
    "cv2.destroyAllWindows()"
   ]
  },
  {
   "cell_type": "markdown",
   "id": "355a1a80",
   "metadata": {},
   "source": [
    "## 눈코 덮어씌우기 - 그림판 이미지"
   ]
  },
  {
   "cell_type": "code",
   "execution_count": 30,
   "id": "c2e77ced",
   "metadata": {},
   "outputs": [],
   "source": [
    "import cv2\n",
    "import mediapipe as mp\n",
    "\n",
    "# 얼굴을 찾고, 찾은 얼굴에 표시를 하기 위한 변수 정의\n",
    "mp_face_detection = mp.solutions.face_detection # 얼굴 검출을 위한 face_detection 모듈 사용\n",
    "mp_drawing = mp.solutions.drawing_utils # 얼굴의 특징을 그리기 위한 drawing_utils 모듈 사용\n",
    "\n",
    "# 동영상 파일 열기\n",
    "cap = cv2.VideoCapture('face_video.mp4')\n",
    "# 이미지 불러오기\n",
    "image_right_eye = cv2.imread('right_eye.png') # 100x100\n",
    "image_left_eye = cv2.imread('left_eye.png')  # 100x100\n",
    "image_nose = cv2.imread('nose.png') # 300x100\n",
    "\n",
    "                                         # 0(가까운거) or 1(먼거)         0~1(threshold 값)\n",
    "with mp_face_detection.FaceDetection(model_selection=0, min_detection_confidence=0.7) as face_detection:\n",
    "        while cap.isOpened():\n",
    "            success, image = cap.read()\n",
    "\n",
    "            if not success:\n",
    "                break\n",
    "\n",
    "            # To improve performance, optionally mark the image as not writeable to\n",
    "            # pass by reference.\n",
    "            image.flags.writeable = False\n",
    "            image = cv2.cvtColor(image, cv2.COLOR_BGR2RGB)\n",
    "            results = face_detection.process(image)\n",
    "\n",
    "            # Draw the face detection annotations on the image.\n",
    "            image.flags.writeable = True\n",
    "            image = cv2.cvtColor(image, cv2.COLOR_RGB2BGR)\n",
    "            \n",
    "            if results.detections:\n",
    "                # 6개의 얼굴 특징 detection : 오른 눈, 왼 눈, 코 끝, 입 중심, 오른 귀, 왼 귀 (귀구슬점)\n",
    "                for detection in results.detections:\n",
    "                    # mp_drawing.draw_detection(image, detection)\n",
    "                    # print(detection)\n",
    "                    \n",
    "                    # 특정 위치 가져오기\n",
    "                    keypoints = detection.location_data.relative_keypoints\n",
    "                    right_eye = keypoints[0]\n",
    "                    left_eye = keypoints[1]\n",
    "                    nose_tip = keypoints[2]\n",
    "                    \n",
    "                    h, w, _ = image.shape # height, width, channel\n",
    "                    right_eye = (int(right_eye.x * w)-20, int(right_eye.y * h)-100) # 이미지 내에서 실제 좌표 (x, y)\n",
    "                    left_eye = (int(left_eye.x * w)+20, int(left_eye.y * h)-100)\n",
    "                    nose_tip = (int(nose_tip.x * w), int(nose_tip.y * h))\n",
    "                    \n",
    "                    # 각 특징에 이미지 그리기\n",
    "                    image[right_eye[1]-50:right_eye[1]+50, right_eye[0]-50:right_eye[0]+50] = image_right_eye\n",
    "                    # 눈 중심으로 위 아래 50 범위\n",
    "                    image[left_eye[1]-50:left_eye[1]+50, left_eye[0]-50:left_eye[0]+50] = image_left_eye\n",
    "                    image[nose_tip[1]-50:nose_tip[1]+50, nose_tip[0]-150:nose_tip[0]+150] = image_nose\n",
    "\n",
    "            cv2.imshow('MediaPipe Face Detection', cv2.resize(image, None, fx=0.5, fy=0.5))\n",
    "            if cv2.waitKey(1) == ord('q'):\n",
    "                break\n",
    "        \n",
    "cap.release()\n",
    "cv2.destroyAllWindows()"
   ]
  },
  {
   "cell_type": "markdown",
   "id": "e2170a72",
   "metadata": {},
   "source": [
    "## 눈코 덮어씌우기 - 이미지"
   ]
  },
  {
   "cell_type": "code",
   "execution_count": 45,
   "id": "d2e1bfe6",
   "metadata": {
    "scrolled": true
   },
   "outputs": [],
   "source": [
    "import cv2\n",
    "import mediapipe as mp\n",
    "\n",
    "# 덮어쓰기 함수 정의\n",
    "def overlay(image, x, y, w, h, overlay_image): # 대상이미지 (3채널), x, y, width, height, 덮어씌울 이미지 (4채널)\n",
    "    alpha = overlay_image[:,:,3] # BGRA\n",
    "    mask_image = alpha/255  # 0 ~ 1사이 값으로 (1: 불투명, 0: 투명)\n",
    "    \n",
    "    for c in range(0, 3): # 채널 BGR 대상\n",
    "        image[y-h:y+h, x-w:x+w, c] = (overlay_image[:,:,c] * mask_image) + (image[y-h:y+h, x-w:x+w, c] * (1 - mask_image))\n",
    "\n",
    "# 얼굴을 찾고, 찾은 얼굴에 표시를 하기 위한 변수 정의\n",
    "mp_face_detection = mp.solutions.face_detection # 얼굴 검출을 위한 face_detection 모듈 사용\n",
    "mp_drawing = mp.solutions.drawing_utils # 얼굴의 특징을 그리기 위한 drawing_utils 모듈 사용\n",
    "\n",
    "# 동영상 파일 열기\n",
    "cap = cv2.VideoCapture('face_video.mp4')\n",
    "# 이미지 불러오기\n",
    "image_right_eye = cv2.imread('left2.png', cv2.IMREAD_UNCHANGED) \n",
    "image_left_eye = cv2.imread('right2.png', cv2.IMREAD_UNCHANGED) \n",
    "image_nose = cv2.imread('nose_img2.png', cv2.IMREAD_UNCHANGED) \n",
    "\n",
    "                                         # 0(가까운거) or 1(먼거)         0~1(threshold 값)\n",
    "with mp_face_detection.FaceDetection(model_selection=0, min_detection_confidence=0.7) as face_detection:\n",
    "        while cap.isOpened():\n",
    "            success, image = cap.read()\n",
    "\n",
    "            if not success:\n",
    "                break\n",
    "\n",
    "            # To improve performance, optionally mark the image as not writeable to\n",
    "            # pass by reference.\n",
    "            image.flags.writeable = False\n",
    "            image = cv2.cvtColor(image, cv2.COLOR_BGR2RGB)\n",
    "            results = face_detection.process(image)\n",
    "\n",
    "            # Draw the face detection annotations on the image.\n",
    "            image.flags.writeable = True\n",
    "            image = cv2.cvtColor(image, cv2.COLOR_RGB2BGR)\n",
    "            \n",
    "            if results.detections:\n",
    "                # 6개의 얼굴 특징 detection : 오른 눈, 왼 눈, 코 끝, 입 중심, 오른 귀, 왼 귀 (귀구슬점)\n",
    "                for detection in results.detections:\n",
    "                    # mp_drawing.draw_detection(image, detection)\n",
    "                    # print(detection)\n",
    "                    \n",
    "                    # 특정 위치 가져오기\n",
    "                    keypoints = detection.location_data.relative_keypoints\n",
    "                    right_eye = keypoints[0]\n",
    "                    left_eye = keypoints[1]\n",
    "                    nose_tip = keypoints[2]\n",
    "                    \n",
    "                    h, w, _ = image.shape # height, width, channel\n",
    "                    right_eye = (int(right_eye.x * w)-20, int(right_eye.y * h)-100) # 이미지 내에서 실제 좌표 (x, y)\n",
    "                    left_eye = (int(left_eye.x * w)+20, int(left_eye.y * h)-100)\n",
    "                    nose_tip = (int(nose_tip.x * w), int(nose_tip.y * h))\n",
    "                     \n",
    "                    # image, x, y, w, h, overlay_image\n",
    "                    overlay(image, *right_eye, 50, 50, image_right_eye)\n",
    "                    overlay(image, *left_eye, 50, 50, image_left_eye)\n",
    "                    overlay(image, *nose_tip, 150, 50, image_nose)\n",
    "                    \n",
    "                \n",
    "            cv2.imshow('MediaPipe Face Detection', cv2.resize(image, None, fx=0.5, fy=0.5))\n",
    "            if cv2.waitKey(1) == ord('q'):\n",
    "                break\n",
    "        \n",
    "cap.release()\n",
    "cv2.destroyAllWindows()"
   ]
  },
  {
   "cell_type": "code",
   "execution_count": 43,
   "id": "9774bff8",
   "metadata": {},
   "outputs": [
    {
     "data": {
      "text/plain": [
       "((100, 100, 4), (100, 100, 4), (100, 300, 4))"
      ]
     },
     "execution_count": 43,
     "metadata": {},
     "output_type": "execute_result"
    }
   ],
   "source": [
    "image_right_eye = cv2.imread('right2.png', cv2.IMREAD_UNCHANGED) \n",
    "image_left_eye = cv2.imread('left2.png', cv2.IMREAD_UNCHANGED) \n",
    "image_nose = cv2.imread('nose_img2.png', cv2.IMREAD_UNCHANGED) \n",
    "\n",
    "image_right_eye.shape, image_left_eye.shape, image_nose.shape"
   ]
  }
 ],
 "metadata": {
  "kernelspec": {
   "display_name": "Python 3 (ipykernel)",
   "language": "python",
   "name": "python3"
  },
  "language_info": {
   "codemirror_mode": {
    "name": "ipython",
    "version": 3
   },
   "file_extension": ".py",
   "mimetype": "text/x-python",
   "name": "python",
   "nbconvert_exporter": "python",
   "pygments_lexer": "ipython3",
   "version": "3.9.7"
  }
 },
 "nbformat": 4,
 "nbformat_minor": 5
}
